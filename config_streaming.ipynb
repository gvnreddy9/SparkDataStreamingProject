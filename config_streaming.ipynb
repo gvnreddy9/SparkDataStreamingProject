{
 "cells": [
  {
   "cell_type": "markdown",
   "metadata": {
    "application/vnd.databricks.v1+cell": {
     "cellMetadata": {},
     "inputWidgets": {},
     "nuid": "aa9ac242-32c9-47bc-9757-21f27c73c17a",
     "showTitle": false,
     "title": ""
    }
   },
   "source": [
    "##### Creating pyspark schema for reading csv files."
   ]
  },
  {
   "cell_type": "code",
   "execution_count": 0,
   "metadata": {
    "application/vnd.databricks.v1+cell": {
     "cellMetadata": {
      "byteLimit": 2048000,
      "rowLimit": 10000
     },
     "inputWidgets": {},
     "nuid": "00397a33-f317-45ec-8269-2e5c592aea33",
     "showTitle": false,
     "title": ""
    }
   },
   "outputs": [],
   "source": [
    "from pyspark.sql.types import *\n",
    "from pyspark.sql.functions import *\n",
    "streamSchema = StructType([StructField(\"date\",StringType(),True),\n",
    "                         StructField(\"actual_mean_temp\",IntegerType(),True),\n",
    "                         StructField(\"actual_min_temp\",IntegerType(),True),\n",
    "                         StructField(\"actual_max_temp\",IntegerType(),True),\n",
    "                         StructField(\"average_min_temp\",IntegerType(),True),\n",
    "                         StructField(\"average_max_temp\",IntegerType(),True),\n",
    "                         StructField(\"record_min_temp\",IntegerType(),True),\n",
    "                         StructField(\"record_max_temp\",IntegerType(),True),\n",
    "                         StructField(\"record_min_temp_year\",IntegerType(),True),\n",
    "                         StructField(\"record_max_temp_year\",IntegerType(),True),\n",
    "                         StructField(\"actual_precipitation\",DoubleType(),True),\n",
    "                         StructField(\"average_precipitation\",DoubleType(),True),\n",
    "                         StructField(\"record_precipitation\",DoubleType(),True)])"
   ]
  },
  {
   "cell_type": "code",
   "execution_count": 0,
   "metadata": {
    "application/vnd.databricks.v1+cell": {
     "cellMetadata": {
      "byteLimit": 2048000,
      "rowLimit": 10000
     },
     "inputWidgets": {},
     "nuid": "5f0bac89-96f2-47d1-9ce1-0b097fe31199",
     "showTitle": false,
     "title": ""
    }
   },
   "outputs": [
    {
     "output_type": "display_data",
     "data": {
      "text/html": [
       "<style scoped>\n",
       "  .table-result-container {\n",
       "    max-height: 300px;\n",
       "    overflow: auto;\n",
       "  }\n",
       "  table, th, td {\n",
       "    border: 1px solid black;\n",
       "    border-collapse: collapse;\n",
       "  }\n",
       "  th, td {\n",
       "    padding: 5px;\n",
       "  }\n",
       "  th {\n",
       "    text-align: left;\n",
       "  }\n",
       "</style><div class='table-result-container'><table class='table-result'><thead style='background-color: white'><tr><th>path</th><th>name</th><th>size</th><th>modificationTime</th></tr></thead><tbody><tr><td>dbfs:/FileStore/products/</td><td>products/</td><td>0</td><td>0</td></tr><tr><td>dbfs:/FileStore/shared_uploads/</td><td>shared_uploads/</td><td>0</td><td>0</td></tr><tr><td>dbfs:/FileStore/tables/</td><td>tables/</td><td>0</td><td>0</td></tr></tbody></table></div>"
      ]
     },
     "metadata": {
      "application/vnd.databricks.v1+output": {
       "addedWidgets": {},
       "aggData": [],
       "aggError": "",
       "aggOverflow": false,
       "aggSchema": [],
       "aggSeriesLimitReached": false,
       "aggType": "",
       "arguments": {},
       "columnCustomDisplayInfos": {},
       "data": [
        [
         "dbfs:/FileStore/products/",
         "products/",
         0,
         0
        ],
        [
         "dbfs:/FileStore/shared_uploads/",
         "shared_uploads/",
         0,
         0
        ],
        [
         "dbfs:/FileStore/tables/",
         "tables/",
         0,
         0
        ]
       ],
       "datasetInfos": [],
       "dbfsResultPath": null,
       "isJsonSchema": true,
       "metadata": {
        "isDbfsCommandResult": false
       },
       "overflow": false,
       "plotOptions": {
        "customPlotOptions": {},
        "displayType": "table",
        "pivotAggregation": null,
        "pivotColumns": null,
        "xColumns": null,
        "yColumns": null
       },
       "removedWidgets": [],
       "schema": [
        {
         "metadata": "{}",
         "name": "path",
         "type": "\"string\""
        },
        {
         "metadata": "{}",
         "name": "name",
         "type": "\"string\""
        },
        {
         "metadata": "{}",
         "name": "size",
         "type": "\"long\""
        },
        {
         "metadata": "{}",
         "name": "modificationTime",
         "type": "\"long\""
        }
       ],
       "type": "table"
      }
     },
     "output_type": "display_data"
    }
   ],
   "source": [
    "%fs ls dbfs:/FileStore/"
   ]
  },
  {
   "cell_type": "code",
   "execution_count": 0,
   "metadata": {
    "application/vnd.databricks.v1+cell": {
     "cellMetadata": {},
     "inputWidgets": {},
     "nuid": "726d5f6d-4921-4804-975b-c574c537739d",
     "showTitle": false,
     "title": ""
    }
   },
   "outputs": [],
   "source": [
    "product_delimiter=\"\\t\"\n",
    "streaming_path=\"dbfs:/FileStore/streaming\""
   ]
  },
  {
   "cell_type": "code",
   "execution_count": 0,
   "metadata": {
    "application/vnd.databricks.v1+cell": {
     "cellMetadata": {},
     "inputWidgets": {},
     "nuid": "19610189-630b-4200-9b78-33c2f3c302f9",
     "showTitle": false,
     "title": ""
    }
   },
   "outputs": [],
   "source": [
    "import urllib.request\n",
    "urllib.request.urlretrieve(\"https://raw.githubusercontent.com/ master/poc_product/streaming_files/ws01.txt\",\"/tmp/ws01.txt\")\n",
    "dbutils.fs.mv(\"file:/tmp/ws01.txt\",\"dbfs:/FileStore/streaming/ws01.txt\")\n",
    "urllib.request.urlretrieve(\"https://raw.githubusercontent.com/ master/poc_product/streaming_files/ws02.txt\",\"/tmp/ws02.txt\")\n",
    "dbutils.fs.mv(\"file:/tmp/ws02.txt\",\"dbfs:/FileStore/streaming/ws02.txt\")\n",
    "urllib.request.urlretrieve(\"https://raw.githubusercontent.com/ master/poc_product/streaming_files/ws03.txt\",\"/tmp/ws03.txt\")\n",
    "dbutils.fs.mv(\"file:/tmp/ws03.txt\",\"dbfs:/FileStore/streaming/ws03.txt\")\n",
    "urllib.request.urlretrieve(\"https://raw.githubusercontent.com/ master/poc_product/streaming_files/ws04.txt\",\"/tmp/ws04.txt\")\n",
    "dbutils.fs.mv(\"file:/tmp/ws04.txt\",\"dbfs:/FileStore/streaming/ws04.txt\")\n",
    "urllib.request.urlretrieve(\"https://raw.githubusercontent.com/ master/poc_product/streaming_files/ws05.txt\",\"/tmp/ws05.txt\")\n",
    "dbutils.fs.mv(\"file:/tmp/ws05.txt\",\"dbfs:/FileStore/streaming/ws05.txt\")\n",
    "urllib.request.urlretrieve(\"https://raw.githubusercontent.com/ master/poc_product/streaming_files/ws06.txt\",\"/tmp/ws06.txt\")\n",
    "dbutils.fs.mv(\"file:/tmp/ws06.txt\",\"dbfs:/FileStore/streaming/ws06.txt\")\n",
    "urllib.request.urlretrieve(\"https://raw.githubusercontent.com/ master/poc_product/streaming_files/ws07.txt\",\"/tmp/ws07.txt\")\n",
    "dbutils.fs.mv(\"file:/tmp/ws07.txt\",\"dbfs:/FileStore/streaming/ws07.txt\")\n",
    "urllib.request.urlretrieve(\"https://raw.githubusercontent.com/ master/poc_product/streaming_files/ws08.txt\",\"/tmp/ws08.txt\")\n",
    "dbutils.fs.mv(\"file:/tmp/ws08.txt\",\"dbfs:/FileStore/streaming/ws08.txt\")\n",
    "urllib.request.urlretrieve(\"https://raw.githubusercontent.com/ master/poc_product/streaming_files/ws09.txt\",\"/tmp/ws09.txt\")\n",
    "dbutils.fs.mv(\"file:/tmp/ws09.txt\",\"dbfs:/FileStore/streaming/ws09.txt\")\n",
    "urllib.request.urlretrieve(\"https://raw.githubusercontent.com/ master/poc_product/streaming_files/ws10.txt\",\"/tmp/ws10.txt\")\n",
    "dbutils.fs.mv(\"file:/tmp/ws10.txt\",\"dbfs:/FileStore/streaming/ws10.txt\")\n",
    "print('weather streamings files copied to :',streaming_path)"
   ]
  },
  {
   "cell_type": "code",
   "execution_count": 0,
   "metadata": {
    "application/vnd.databricks.v1+cell": {
     "cellMetadata": {
      "byteLimit": 2048000,
      "rowLimit": 10000
     },
     "inputWidgets": {},
     "nuid": "6875801c-44f0-4eae-b9a7-582841b43b28",
     "showTitle": false,
     "title": ""
    }
   },
   "outputs": [
    {
     "output_type": "execute_result",
     "data": {
      "text/plain": [
       "True"
      ]
     },
     "execution_count": 2,
     "metadata": {},
     "output_type": "execute_result"
    }
   ],
   "source": [
    "import urllib.request\n",
    "urllib.request.urlretrieve(\"https://raw.githubusercontent.com/ master/poc_product/streaming_files/ws10.txt\",\"/tmp/ws10.txt\")\n",
    "dbutils.fs.mv(\"file:/tmp/ws10.txt\",\"dbfs:/FileStore/streaming/ws11.txt\")"
   ]
  },
  {
   "cell_type": "code",
   "execution_count": 0,
   "metadata": {
    "application/vnd.databricks.v1+cell": {
     "cellMetadata": {},
     "inputWidgets": {},
     "nuid": "4d142cbe-cda1-462c-a212-aa6184d01d2c",
     "showTitle": false,
     "title": ""
    }
   },
   "outputs": [],
   "source": [
    "%fs ls dbfs:/FileStore/"
   ]
  }
 ],
 "metadata": {
  "application/vnd.databricks.v1+notebook": {
   "dashboards": [],
   "environmentMetadata": null,
   "language": "python",
   "notebookMetadata": {
    "mostRecentlyExecutedCommandWithImplicitDF": {
     "commandId": 303413737932402,
     "dataframes": [
      "_sqldf"
     ]
    },
    "pythonIndentUnit": 2
   },
   "notebookName": "config_streaming",
   "widgets": {}
  }
 },
 "nbformat": 4,
 "nbformat_minor": 0
}
